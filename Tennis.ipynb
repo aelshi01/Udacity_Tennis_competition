{
 "cells": [
  {
   "cell_type": "markdown",
   "metadata": {},
   "source": [
    "# Collaboration and Competition\n",
    "\n",
    "---\n",
    "\n",
    "You are welcome to use this coding environment to train your agent for the project.  Follow the instructions below to get started!\n",
    "\n",
    "### 1. Start the Environment\n",
    "\n",
    "Run the next code cell to install a few packages.  This line will take a few minutes to run!"
   ]
  },
  {
   "cell_type": "code",
   "execution_count": 2,
   "metadata": {},
   "outputs": [
    {
     "name": "stdout",
     "output_type": "stream",
     "text": [
      "\u001b[31mtensorflow 1.7.1 has requirement numpy>=1.13.3, but you'll have numpy 1.12.1 which is incompatible.\u001b[0m\r\n",
      "\u001b[31mipython 6.5.0 has requirement prompt-toolkit<2.0.0,>=1.0.15, but you'll have prompt-toolkit 3.0.30 which is incompatible.\u001b[0m\r\n",
      "\u001b[31mjupyter-console 6.4.3 has requirement jupyter-client>=7.0.0, but you'll have jupyter-client 5.2.4 which is incompatible.\u001b[0m\r\n"
     ]
    }
   ],
   "source": [
    "!pip -q install ./python"
   ]
  },
  {
   "cell_type": "markdown",
   "metadata": {},
   "source": [
    "The environment is already saved in the Workspace and can be accessed at the file path provided below. "
   ]
  },
  {
   "cell_type": "code",
   "execution_count": 3,
   "metadata": {},
   "outputs": [
    {
     "name": "stderr",
     "output_type": "stream",
     "text": [
      "INFO:unityagents:\n",
      "'Academy' started successfully!\n",
      "Unity Academy name: Academy\n",
      "        Number of Brains: 1\n",
      "        Number of External Brains : 1\n",
      "        Lesson number : 0\n",
      "        Reset Parameters :\n",
      "\t\t\n",
      "Unity brain name: TennisBrain\n",
      "        Number of Visual Observations (per agent): 0\n",
      "        Vector Observation space type: continuous\n",
      "        Vector Observation space size (per agent): 8\n",
      "        Number of stacked Vector Observation: 3\n",
      "        Vector Action space type: continuous\n",
      "        Vector Action space size (per agent): 2\n",
      "        Vector Action descriptions: , \n"
     ]
    }
   ],
   "source": [
    "from unityagents import UnityEnvironment\n",
    "import numpy as np\n",
    "\n",
    "env = UnityEnvironment(file_name=\"/data/Tennis_Linux_NoVis/Tennis\")"
   ]
  },
  {
   "cell_type": "code",
   "execution_count": 4,
   "metadata": {},
   "outputs": [],
   "source": [
    "import time\n",
    "from tennis_agent import Agent\n",
    "from collections import deque\n",
    "from Tennis_model import *"
   ]
  },
  {
   "cell_type": "code",
   "execution_count": 5,
   "metadata": {},
   "outputs": [],
   "source": [
    "from workspace_utils import active_session\n"
   ]
  },
  {
   "cell_type": "markdown",
   "metadata": {},
   "source": [
    "Environments contain **_brains_** which are responsible for deciding the actions of their associated agents. Here we check for the first brain available, and set it as the default brain we will be controlling from Python."
   ]
  },
  {
   "cell_type": "code",
   "execution_count": 6,
   "metadata": {},
   "outputs": [],
   "source": [
    "# get the default brain\n",
    "brain_name = env.brain_names[0]\n",
    "brain = env.brains[brain_name]"
   ]
  },
  {
   "cell_type": "markdown",
   "metadata": {},
   "source": [
    "### 2. Examine the State and Action Spaces\n",
    "\n",
    "Run the code cell below to print some information about the environment."
   ]
  },
  {
   "cell_type": "code",
   "execution_count": 7,
   "metadata": {},
   "outputs": [
    {
     "name": "stdout",
     "output_type": "stream",
     "text": [
      "Number of agents: 2\n",
      "Size of each action: 2\n",
      "There are 2 agents. Each observes a state with length: 24\n",
      "The state for the first agent looks like: [ 0.          0.          0.          0.          0.          0.          0.\n",
      "  0.          0.          0.          0.          0.          0.          0.\n",
      "  0.          0.         -6.65278625 -1.5        -0.          0.\n",
      "  6.83172083  6.         -0.          0.        ]\n"
     ]
    }
   ],
   "source": [
    "# reset the environment\n",
    "env_info = env.reset(train_mode=True)[brain_name]\n",
    "\n",
    "# number of agents \n",
    "num_agents = len(env_info.agents)\n",
    "print('Number of agents:', num_agents)\n",
    "\n",
    "# size of each action\n",
    "action_size = brain.vector_action_space_size\n",
    "print('Size of each action:', action_size)\n",
    "\n",
    "# examine the state space \n",
    "states = env_info.vector_observations\n",
    "state_size = states.shape[1]\n",
    "print('There are {} agents. Each observes a state with length: {}'.format(states.shape[0], state_size))\n",
    "print('The state for the first agent looks like:', states[0])"
   ]
  },
  {
   "cell_type": "markdown",
   "metadata": {},
   "source": [
    "### 3. Take Random Actions in the Environment\n",
    "\n",
    "In the next code cell, you will learn how to use the Python API to control the agent and receive feedback from the environment.\n",
    "\n",
    "Note that **in this coding environment, you will not be able to watch the agents while they are training**, and you should set `train_mode=True` to restart the environment."
   ]
  },
  {
   "cell_type": "code",
   "execution_count": 6,
   "metadata": {},
   "outputs": [
    {
     "name": "stdout",
     "output_type": "stream",
     "text": [
      "Total score (averaged over agents) this episode: -0.004999999888241291\n",
      "Total score (averaged over agents) this episode: 0.04500000085681677\n",
      "Total score (averaged over agents) this episode: -0.004999999888241291\n",
      "Total score (averaged over agents) this episode: 0.04500000085681677\n",
      "Total score (averaged over agents) this episode: -0.004999999888241291\n"
     ]
    }
   ],
   "source": [
    "for i in range(5):                                         # play game for 5 episodes\n",
    "    env_info = env.reset(train_mode=False)[brain_name]     # reset the environment    \n",
    "    states = env_info.vector_observations                  # get the current state (for each agent)\n",
    "    scores = np.zeros(num_agents)                          # initialize the score (for each agent)\n",
    "    while True:\n",
    "        actions = np.random.randn(num_agents, action_size) # select an action (for each agent)\n",
    "        actions = np.clip(actions, -1, 1)                  # all actions between -1 and 1\n",
    "        env_info = env.step(actions)[brain_name]           # send all actions to tne environment\n",
    "        next_states = env_info.vector_observations         # get next state (for each agent)\n",
    "        rewards = env_info.rewards                         # get reward (for each agent)\n",
    "        dones = env_info.local_done                        # see if episode finished\n",
    "        scores += env_info.rewards                         # update the score (for each agent)\n",
    "        states = next_states                               # roll over states to next time step\n",
    "        if np.any(dones):                                  # exit loop if episode finished\n",
    "            break\n",
    "    print('Total score (averaged over agents) this episode: {}'.format(np.mean(scores)))"
   ]
  },
  {
   "cell_type": "markdown",
   "metadata": {},
   "source": [
    "When finished, you can close the environment."
   ]
  },
  {
   "cell_type": "code",
   "execution_count": 13,
   "metadata": {},
   "outputs": [],
   "source": [
    "env.close()"
   ]
  },
  {
   "cell_type": "markdown",
   "metadata": {},
   "source": [
    "### 4. It's Your Turn!\n",
    "\n",
    "Now it's your turn to train your own agent to solve the environment!  A few **important notes**:\n",
    "- When training the environment, set `train_mode=True`, so that the line for resetting the environment looks like the following:\n",
    "```python\n",
    "env_info = env.reset(train_mode=True)[brain_name]\n",
    "```\n",
    "- To structure your work, you're welcome to work directly in this Jupyter notebook, or you might like to start over with a new file!  You can see the list of files in the workspace by clicking on **_Jupyter_** in the top left corner of the notebook.\n",
    "- In this coding environment, you will not be able to watch the agents while they are training.  However, **_after training the agents_**, you can download the saved model weights to watch the agents on your own machine! "
   ]
  },
  {
   "cell_type": "code",
   "execution_count": 10,
   "metadata": {},
   "outputs": [],
   "source": [
    "num_workers: int = 2\n",
    "episode_count: int = 4000\n",
    "buffer_size = int(1e5)  # replay buffer size\n",
    "#mini_batch_size: int = 128\n",
    "mini_batch_size: int = 1024\n"
   ]
  },
  {
   "cell_type": "code",
   "execution_count": 11,
   "metadata": {},
   "outputs": [],
   "source": [
    "def run(env, agent, max_step=10000, train_mode=True):\n",
    "    \n",
    "    env_info = env.reset(train_mode=train_mode)[brain_name]\n",
    "    states = env_info.vector_observations\n",
    "    scores = np.zeros(num_agents)\n",
    "    agent.reset()\n",
    "\n",
    "    for t in range(max_step): \n",
    "        actions = agent.act(states)\n",
    "        env_info = env.step(actions)[brain_name]\n",
    "        next_states = env_info.vector_observations \n",
    "        rewards = env_info.rewards\n",
    "        dones = env_info.local_done\n",
    "        if train_mode:\n",
    "            agent.step(states, actions, rewards, next_states, dones)\n",
    "\n",
    "        states = next_states\n",
    "        scores += rewards \n",
    "        if np.any(dones):\n",
    "            break\n",
    "\n",
    "    return np.mean(scores)\n",
    "    \n",
    "    \n",
    "def tennis_agent(agent, train_mode=True):\n",
    "    \"\"\" based on Deep Deterministic Policy Gradient (DDPG) Algorithm\"\"\"\n",
    "    \n",
    "    scores_window = deque(maxlen=100)\n",
    "    scores = []\n",
    "        \n",
    "    for i in range(1, episode_count+1):\n",
    "        begin = time.time()\n",
    "        score = run(env=env, agent=agent, train_mode=train_mode)\n",
    "        scores_window.append(score)\n",
    "        score_average = np.mean(scores_window)\n",
    "        scores.append(score)\n",
    "        \n",
    "        if i % 10 == 0:\n",
    "            print('\\rEpisode {} Average score: {:.2f} Min: {:.2f} Max: {:.2f} Time: {:.2f} Epsilon: {:.2f}'.format(\n",
    "                i, \n",
    "                score_average, \n",
    "                np.min(scores), \n",
    "                np.max(scores), \n",
    "                time.time() - begin,\n",
    "                agent.epsilon\n",
    "            ))        \n",
    "                    \n",
    "        if score_average >= 0.5:\n",
    "            torch.save(agent.actor_local.state_dict(), 'checkpoint_actor.pth')\n",
    "            torch.save(agent.critic_local.state_dict(), 'checkpoint_critic.pth')\n",
    "            print('\\nSolve in {:d} episodes. Average score: {:.2f}'.format(i, score_average))            \n",
    "            break            \n",
    "            \n",
    "    return scores"
   ]
  },
  {
   "cell_type": "code",
   "execution_count": 12,
   "metadata": {
    "scrolled": true
   },
   "outputs": [
    {
     "name": "stdout",
     "output_type": "stream",
     "text": [
      "Episode 10 Average score: -0.00 Min: -0.00 Max: -0.00 Time: 0.03 Epsilon: 1.00\n",
      "Episode 20 Average score: -0.01 Min: -0.01 Max: -0.00 Time: 0.03 Epsilon: 1.00\n",
      "Episode 30 Average score: -0.00 Min: -0.01 Max: 0.05 Time: 1.15 Epsilon: 1.00\n",
      "Episode 40 Average score: -0.00 Min: -0.01 Max: 0.05 Time: 2.32 Epsilon: 1.00\n",
      "Episode 50 Average score: -0.00 Min: -0.01 Max: 0.05 Time: 2.32 Epsilon: 1.00\n",
      "Episode 60 Average score: -0.00 Min: -0.01 Max: 0.10 Time: 2.31 Epsilon: 1.00\n",
      "Episode 70 Average score: -0.00 Min: -0.01 Max: 0.10 Time: 2.39 Epsilon: 1.00\n",
      "Episode 80 Average score: -0.00 Min: -0.01 Max: 0.10 Time: 1.17 Epsilon: 1.00\n",
      "Episode 90 Average score: -0.00 Min: -0.01 Max: 0.10 Time: 1.17 Epsilon: 1.00\n",
      "Episode 100 Average score: -0.00 Min: -0.01 Max: 0.10 Time: 1.19 Epsilon: 1.00\n",
      "Episode 110 Average score: -0.00 Min: -0.01 Max: 0.10 Time: 2.36 Epsilon: 1.00\n",
      "Episode 120 Average score: -0.00 Min: -0.01 Max: 0.10 Time: 2.37 Epsilon: 1.00\n",
      "Episode 130 Average score: -0.00 Min: -0.01 Max: 0.10 Time: 1.18 Epsilon: 1.00\n",
      "Episode 140 Average score: -0.00 Min: -0.01 Max: 0.10 Time: 1.17 Epsilon: 1.00\n",
      "Episode 150 Average score: -0.00 Min: -0.01 Max: 0.10 Time: 1.17 Epsilon: 1.00\n",
      "Episode 160 Average score: -0.00 Min: -0.01 Max: 0.10 Time: 2.36 Epsilon: 1.00\n",
      "Episode 170 Average score: -0.00 Min: -0.01 Max: 0.10 Time: 2.33 Epsilon: 1.00\n",
      "Episode 180 Average score: -0.00 Min: -0.01 Max: 0.10 Time: 1.19 Epsilon: 1.00\n",
      "Episode 190 Average score: -0.00 Min: -0.01 Max: 0.10 Time: 1.18 Epsilon: 1.00\n",
      "Episode 200 Average score: -0.00 Min: -0.01 Max: 0.10 Time: 1.18 Epsilon: 1.00\n",
      "Episode 210 Average score: -0.00 Min: -0.01 Max: 0.10 Time: 2.32 Epsilon: 1.00\n",
      "Episode 220 Average score: -0.00 Min: -0.01 Max: 0.10 Time: 2.33 Epsilon: 1.00\n",
      "Episode 230 Average score: -0.00 Min: -0.01 Max: 0.10 Time: 1.17 Epsilon: 1.00\n",
      "Episode 240 Average score: -0.00 Min: -0.01 Max: 0.10 Time: 1.18 Epsilon: 1.00\n",
      "Episode 250 Average score: -0.00 Min: -0.01 Max: 0.10 Time: 2.32 Epsilon: 1.00\n",
      "Episode 260 Average score: -0.00 Min: -0.01 Max: 0.10 Time: 2.45 Epsilon: 1.00\n",
      "Episode 270 Average score: -0.00 Min: -0.01 Max: 0.20 Time: 1.21 Epsilon: 1.00\n",
      "Episode 280 Average score: -0.00 Min: -0.01 Max: 0.20 Time: 1.20 Epsilon: 1.00\n",
      "Episode 290 Average score: -0.00 Min: -0.01 Max: 0.20 Time: 2.38 Epsilon: 1.00\n",
      "Episode 300 Average score: -0.00 Min: -0.01 Max: 0.20 Time: 2.39 Epsilon: 1.00\n",
      "Episode 310 Average score: -0.00 Min: -0.01 Max: 0.20 Time: 1.21 Epsilon: 1.00\n",
      "Episode 320 Average score: -0.00 Min: -0.01 Max: 0.20 Time: 1.23 Epsilon: 1.00\n",
      "Episode 330 Average score: -0.00 Min: -0.01 Max: 0.20 Time: 1.20 Epsilon: 1.00\n",
      "Episode 340 Average score: -0.00 Min: -0.01 Max: 0.20 Time: 3.62 Epsilon: 1.00\n",
      "Episode 350 Average score: -0.00 Min: -0.01 Max: 0.20 Time: 4.74 Epsilon: 1.00\n",
      "Episode 360 Average score: -0.00 Min: -0.01 Max: 0.20 Time: 1.21 Epsilon: 1.00\n",
      "Episode 370 Average score: -0.00 Min: -0.01 Max: 0.20 Time: 1.21 Epsilon: 1.00\n",
      "Episode 380 Average score: -0.00 Min: -0.01 Max: 0.20 Time: 4.83 Epsilon: 1.00\n",
      "Episode 390 Average score: -0.00 Min: -0.01 Max: 0.20 Time: 2.46 Epsilon: 1.00\n",
      "Episode 400 Average score: -0.00 Min: -0.01 Max: 0.20 Time: 2.44 Epsilon: 1.00\n",
      "Episode 410 Average score: 0.00 Min: -0.01 Max: 0.20 Time: 2.42 Epsilon: 1.00\n",
      "Episode 420 Average score: 0.00 Min: -0.01 Max: 0.20 Time: 1.20 Epsilon: 1.00\n",
      "Episode 430 Average score: 0.01 Min: -0.01 Max: 0.20 Time: 8.43 Epsilon: 1.00\n",
      "Episode 440 Average score: 0.01 Min: -0.01 Max: 0.20 Time: 2.33 Epsilon: 1.00\n",
      "Episode 450 Average score: 0.01 Min: -0.01 Max: 0.20 Time: 1.20 Epsilon: 1.00\n",
      "Episode 460 Average score: 0.01 Min: -0.01 Max: 0.20 Time: 1.14 Epsilon: 1.00\n",
      "Episode 470 Average score: 0.01 Min: -0.01 Max: 0.20 Time: 1.25 Epsilon: 1.00\n",
      "Episode 480 Average score: 0.00 Min: -0.01 Max: 0.20 Time: 2.35 Epsilon: 1.00\n",
      "Episode 490 Average score: 0.00 Min: -0.01 Max: 0.20 Time: 2.37 Epsilon: 1.00\n",
      "Episode 500 Average score: 0.00 Min: -0.01 Max: 0.20 Time: 1.19 Epsilon: 1.00\n",
      "Episode 510 Average score: 0.00 Min: -0.01 Max: 0.20 Time: 1.19 Epsilon: 1.00\n",
      "Episode 520 Average score: 0.00 Min: -0.01 Max: 0.20 Time: 1.21 Epsilon: 1.00\n",
      "Episode 530 Average score: -0.00 Min: -0.01 Max: 0.20 Time: 1.16 Epsilon: 1.00\n",
      "Episode 540 Average score: -0.00 Min: -0.01 Max: 0.20 Time: 1.27 Epsilon: 1.00\n",
      "Episode 550 Average score: -0.00 Min: -0.01 Max: 0.20 Time: 2.43 Epsilon: 1.00\n",
      "Episode 560 Average score: -0.00 Min: -0.01 Max: 0.20 Time: 3.58 Epsilon: 1.00\n",
      "Episode 570 Average score: -0.00 Min: -0.01 Max: 0.20 Time: 2.34 Epsilon: 1.00\n",
      "Episode 580 Average score: -0.00 Min: -0.01 Max: 0.20 Time: 1.16 Epsilon: 1.00\n",
      "Episode 590 Average score: -0.00 Min: -0.01 Max: 0.20 Time: 1.21 Epsilon: 1.00\n",
      "Episode 600 Average score: -0.00 Min: -0.01 Max: 0.20 Time: 1.16 Epsilon: 1.00\n",
      "Episode 610 Average score: -0.00 Min: -0.01 Max: 0.20 Time: 2.42 Epsilon: 1.00\n",
      "Episode 620 Average score: -0.00 Min: -0.01 Max: 0.20 Time: 2.34 Epsilon: 1.00\n",
      "Episode 630 Average score: -0.00 Min: -0.01 Max: 0.20 Time: 2.37 Epsilon: 1.00\n",
      "Episode 640 Average score: -0.00 Min: -0.01 Max: 0.20 Time: 2.38 Epsilon: 1.00\n",
      "Episode 650 Average score: -0.00 Min: -0.01 Max: 0.20 Time: 2.39 Epsilon: 1.00\n",
      "Episode 660 Average score: -0.00 Min: -0.01 Max: 0.20 Time: 1.18 Epsilon: 1.00\n",
      "Episode 670 Average score: -0.00 Min: -0.01 Max: 0.20 Time: 1.19 Epsilon: 1.00\n",
      "Episode 680 Average score: -0.00 Min: -0.01 Max: 0.20 Time: 2.62 Epsilon: 1.00\n",
      "Episode 690 Average score: -0.00 Min: -0.01 Max: 0.20 Time: 2.39 Epsilon: 1.00\n",
      "Episode 700 Average score: -0.00 Min: -0.01 Max: 0.20 Time: 2.44 Epsilon: 1.00\n",
      "Episode 710 Average score: -0.00 Min: -0.01 Max: 0.20 Time: 1.25 Epsilon: 1.00\n",
      "Episode 720 Average score: -0.00 Min: -0.01 Max: 0.20 Time: 1.25 Epsilon: 1.00\n",
      "Episode 730 Average score: -0.00 Min: -0.01 Max: 0.20 Time: 2.38 Epsilon: 1.00\n",
      "Episode 740 Average score: -0.00 Min: -0.01 Max: 0.20 Time: 3.62 Epsilon: 1.00\n",
      "Episode 750 Average score: -0.00 Min: -0.01 Max: 0.20 Time: 2.38 Epsilon: 1.00\n",
      "Episode 760 Average score: -0.00 Min: -0.01 Max: 0.20 Time: 2.40 Epsilon: 1.00\n",
      "Episode 770 Average score: -0.00 Min: -0.01 Max: 0.20 Time: 1.25 Epsilon: 1.00\n",
      "Episode 780 Average score: -0.00 Min: -0.01 Max: 0.20 Time: 1.26 Epsilon: 1.00\n",
      "Episode 790 Average score: -0.00 Min: -0.01 Max: 0.20 Time: 1.21 Epsilon: 1.00\n",
      "Episode 800 Average score: -0.00 Min: -0.01 Max: 0.20 Time: 2.42 Epsilon: 1.00\n",
      "Episode 810 Average score: -0.00 Min: -0.01 Max: 0.20 Time: 2.35 Epsilon: 1.00\n",
      "Episode 820 Average score: 0.00 Min: -0.01 Max: 0.20 Time: 4.86 Epsilon: 1.00\n",
      "Episode 830 Average score: 0.01 Min: -0.01 Max: 0.20 Time: 3.54 Epsilon: 1.00\n",
      "Episode 840 Average score: 0.02 Min: -0.01 Max: 0.20 Time: 8.20 Epsilon: 1.00\n",
      "Episode 850 Average score: 0.03 Min: -0.01 Max: 0.20 Time: 6.24 Epsilon: 1.00\n",
      "Episode 860 Average score: 0.03 Min: -0.01 Max: 0.20 Time: 6.18 Epsilon: 1.00\n",
      "Episode 870 Average score: 0.04 Min: -0.01 Max: 0.20 Time: 11.94 Epsilon: 1.00\n",
      "Episode 880 Average score: 0.05 Min: -0.01 Max: 0.20 Time: 7.34 Epsilon: 1.00\n",
      "Episode 890 Average score: 0.06 Min: -0.01 Max: 0.20 Time: 2.46 Epsilon: 1.00\n",
      "Episode 900 Average score: 0.06 Min: -0.01 Max: 0.20 Time: 7.42 Epsilon: 1.00\n",
      "Episode 910 Average score: 0.07 Min: -0.01 Max: 0.35 Time: 18.32 Epsilon: 1.00\n",
      "Episode 920 Average score: 0.08 Min: -0.01 Max: 0.35 Time: 6.12 Epsilon: 1.00\n",
      "Episode 930 Average score: 0.08 Min: -0.01 Max: 0.35 Time: 5.95 Epsilon: 1.00\n",
      "Episode 940 Average score: 0.08 Min: -0.01 Max: 0.35 Time: 3.60 Epsilon: 1.00\n",
      "Episode 950 Average score: 0.08 Min: -0.01 Max: 0.35 Time: 3.57 Epsilon: 1.00\n",
      "Episode 960 Average score: 0.09 Min: -0.01 Max: 0.35 Time: 1.22 Epsilon: 1.00\n",
      "Episode 970 Average score: 0.09 Min: -0.01 Max: 0.35 Time: 1.19 Epsilon: 1.00\n",
      "Episode 980 Average score: 0.09 Min: -0.01 Max: 0.55 Time: 10.90 Epsilon: 1.00\n",
      "Episode 990 Average score: 0.11 Min: -0.01 Max: 0.75 Time: 35.95 Epsilon: 1.00\n",
      "Episode 1000 Average score: 0.11 Min: -0.01 Max: 0.75 Time: 8.30 Epsilon: 1.00\n",
      "Episode 1010 Average score: 0.12 Min: -0.01 Max: 0.75 Time: 23.80 Epsilon: 1.00\n",
      "Episode 1020 Average score: 0.13 Min: -0.01 Max: 0.75 Time: 7.97 Epsilon: 1.00\n",
      "Episode 1030 Average score: 0.16 Min: -0.01 Max: 0.75 Time: 29.71 Epsilon: 1.00\n",
      "Episode 1040 Average score: 0.19 Min: -0.01 Max: 2.00 Time: 8.15 Epsilon: 1.00\n",
      "Episode 1050 Average score: 0.20 Min: -0.01 Max: 2.00 Time: 11.77 Epsilon: 1.00\n",
      "Episode 1060 Average score: 0.23 Min: -0.01 Max: 2.00 Time: 21.77 Epsilon: 1.00\n",
      "Episode 1070 Average score: 0.26 Min: -0.01 Max: 2.00 Time: 2.42 Epsilon: 1.00\n",
      "Episode 1080 Average score: 0.30 Min: -0.01 Max: 2.00 Time: 8.53 Epsilon: 1.00\n",
      "Episode 1090 Average score: 0.36 Min: -0.01 Max: 2.60 Time: 23.97 Epsilon: 1.00\n",
      "Episode 1100 Average score: 0.36 Min: -0.01 Max: 2.60 Time: 7.04 Epsilon: 1.00\n",
      "Episode 1110 Average score: 0.37 Min: -0.01 Max: 2.60 Time: 3.51 Epsilon: 1.00\n",
      "Episode 1120 Average score: 0.37 Min: -0.01 Max: 2.60 Time: 2.38 Epsilon: 1.00\n",
      "Episode 1130 Average score: 0.37 Min: -0.01 Max: 2.60 Time: 13.20 Epsilon: 1.00\n",
      "Episode 1140 Average score: 0.36 Min: -0.01 Max: 2.60 Time: 45.41 Epsilon: 1.00\n",
      "Episode 1150 Average score: 0.35 Min: -0.01 Max: 2.60 Time: 7.17 Epsilon: 1.00\n",
      "Episode 1160 Average score: 0.32 Min: -0.01 Max: 2.60 Time: 25.28 Epsilon: 1.00\n",
      "Episode 1170 Average score: 0.34 Min: -0.01 Max: 2.60 Time: 63.35 Epsilon: 1.00\n",
      "Episode 1180 Average score: 0.34 Min: -0.01 Max: 2.60 Time: 8.93 Epsilon: 1.00\n",
      "Episode 1190 Average score: 0.29 Min: -0.01 Max: 2.60 Time: 7.37 Epsilon: 1.00\n",
      "Episode 1200 Average score: 0.31 Min: -0.01 Max: 2.60 Time: 11.15 Epsilon: 1.00\n",
      "Episode 1210 Average score: 0.36 Min: -0.01 Max: 2.60 Time: 1.26 Epsilon: 1.00\n",
      "Episode 1220 Average score: 0.34 Min: -0.01 Max: 2.60 Time: 2.46 Epsilon: 1.00\n",
      "Episode 1230 Average score: 0.31 Min: -0.01 Max: 2.60 Time: 2.51 Epsilon: 1.00\n",
      "Episode 1240 Average score: 0.33 Min: -0.01 Max: 2.60 Time: 3.67 Epsilon: 1.00\n",
      "Episode 1250 Average score: 0.39 Min: -0.01 Max: 2.60 Time: 61.26 Epsilon: 1.00\n",
      "Episode 1260 Average score: 0.48 Min: -0.01 Max: 2.60 Time: 122.06 Epsilon: 1.00\n",
      "\n",
      "Solve in 1265 episodes. Average score: 0.52\n"
     ]
    }
   ],
   "source": [
    "with active_session():\n",
    "    agent = Agent(\n",
    "                  state_size=state_size, \n",
    "                  action_size=action_size, \n",
    "                  num_agents=num_agents, \n",
    "                  random_seed=7\n",
    "                 )\n",
    "\n",
    "    scores = tennis_agent(agent)"
   ]
  },
  {
   "cell_type": "code",
   "execution_count": 25,
   "metadata": {},
   "outputs": [
    {
     "data": {
      "image/png": "[encoded data removed]",
      "text/plain": [
       "<matplotlib.figure.Figure at 0x7f033555ae80>"
      ]
     },
     "metadata": {
      "needs_background": "light"
     },
     "output_type": "display_data"
    }
   ],
   "source": [
    "import matplotlib.pyplot as plt\n",
    "\n",
    "fig = plt.figure()\n",
    "ax = fig.add_subplot(111)\n",
    "plt.plot(np.arange(len(scores)), scores)\n",
    "plt.ylabel('Score')\n",
    "plt.xlabel('Episode #')\n",
    "plt.savefig(\"plot_average_of_100_episodes_batch_size_{batch_size}.png\".format(batch_size=mini_batch_size), format=\"png\")\n",
    "plt.show()"
   ]
  },
  {
   "cell_type": "code",
   "execution_count": null,
   "metadata": {},
   "outputs": [],
   "source": []
  }
 ],
 "metadata": {
  "kernelspec": {
   "display_name": "Python 3",
   "language": "python",
   "name": "python3"
  },
  "language_info": {
   "codemirror_mode": {
    "name": "ipython",
    "version": 3
   },
   "file_extension": ".py",
   "mimetype": "text/x-python",
   "name": "python",
   "nbconvert_exporter": "python",
   "pygments_lexer": "ipython3",
   "version": "3.6.3"
  }
 },
 "nbformat": 4,
 "nbformat_minor": 2
}
